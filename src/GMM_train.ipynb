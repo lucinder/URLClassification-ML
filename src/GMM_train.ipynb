{
 "cells": [
  {
   "cell_type": "code",
   "execution_count": 1,
   "id": "c5801e88-1294-4fa1-af55-9b140422b53a",
   "metadata": {},
   "outputs": [],
   "source": [
    "import pandas as pd\n",
    "import numpy as np\n",
    "from sklearn.mixture import GaussianMixture\n",
    "import sklearn.metrics as m\n",
    "# from sklearn.metrics import confusion_matrix\n",
    "# from sklearn.preprocessing import StandardScaler\n",
    "import matplotlib.pyplot as plt\n",
    "import seaborn as sns\n",
    "import warnings\n",
    "warnings.filterwarnings(\"ignore\")"
   ]
  },
  {
   "cell_type": "code",
   "execution_count": 2,
   "id": "4f4f3ce5-917e-436c-9487-86bc5ade581c",
   "metadata": {},
   "outputs": [],
   "source": [
    "input_path = \"../data/features_encoded.csv\"\n",
    "raw_data = pd.read_csv(input_path, header=0, skiprows=None, index_col=None, delimiter=\",\")\n",
    "\n",
    "labels = raw_data['malicious'].apply(lambda x: 1 if x else 0)\n",
    "features = raw_data.drop('malicious', axis=1)\n",
    "\n",
    "train_features = features.iloc[:80000, :]\n",
    "test_features = features.iloc[80000:, :]\n",
    "train_labels = labels[:80000]\n",
    "test_labels = labels[80000:]"
   ]
  },
  {
   "cell_type": "code",
   "execution_count": 3,
   "id": "6bdef222-e940-4216-9538-d7c77d3f3d3f",
   "metadata": {},
   "outputs": [],
   "source": [
    "def calculateNormalizationParams(data):\n",
    "    means = data.mean()\n",
    "    stdevs = data.std()\n",
    "    stdevs[stdevs == 0] = 1  # Replace 0 std to avoid division by zero\n",
    "    return means, stdevs\n",
    "\n",
    "def applyNormalization(data, means, stdevs):\n",
    "    return (data - means) / stdevs"
   ]
  },
  {
   "cell_type": "code",
   "execution_count": 4,
   "id": "0eedfa8a-d16b-428e-afed-5e5490ec4336",
   "metadata": {},
   "outputs": [],
   "source": [
    "means, stdevs = calculateNormalizationParams(train_features)\n",
    "normalizedTrainFeatures = applyNormalization(train_features, means, stdevs)\n",
    "normalizedTestFeatures = applyNormalization(test_features, means, stdevs)"
   ]
  },
  {
   "cell_type": "code",
   "execution_count": 5,
   "id": "dff1dc96-a63b-401f-a925-2b218c57ce86",
   "metadata": {},
   "outputs": [
    {
     "data": {
      "text/html": [
       "<style>#sk-container-id-1 {color: black;background-color: white;}#sk-container-id-1 pre{padding: 0;}#sk-container-id-1 div.sk-toggleable {background-color: white;}#sk-container-id-1 label.sk-toggleable__label {cursor: pointer;display: block;width: 100%;margin-bottom: 0;padding: 0.3em;box-sizing: border-box;text-align: center;}#sk-container-id-1 label.sk-toggleable__label-arrow:before {content: \"▸\";float: left;margin-right: 0.25em;color: #696969;}#sk-container-id-1 label.sk-toggleable__label-arrow:hover:before {color: black;}#sk-container-id-1 div.sk-estimator:hover label.sk-toggleable__label-arrow:before {color: black;}#sk-container-id-1 div.sk-toggleable__content {max-height: 0;max-width: 0;overflow: hidden;text-align: left;background-color: #f0f8ff;}#sk-container-id-1 div.sk-toggleable__content pre {margin: 0.2em;color: black;border-radius: 0.25em;background-color: #f0f8ff;}#sk-container-id-1 input.sk-toggleable__control:checked~div.sk-toggleable__content {max-height: 200px;max-width: 100%;overflow: auto;}#sk-container-id-1 input.sk-toggleable__control:checked~label.sk-toggleable__label-arrow:before {content: \"▾\";}#sk-container-id-1 div.sk-estimator input.sk-toggleable__control:checked~label.sk-toggleable__label {background-color: #d4ebff;}#sk-container-id-1 div.sk-label input.sk-toggleable__control:checked~label.sk-toggleable__label {background-color: #d4ebff;}#sk-container-id-1 input.sk-hidden--visually {border: 0;clip: rect(1px 1px 1px 1px);clip: rect(1px, 1px, 1px, 1px);height: 1px;margin: -1px;overflow: hidden;padding: 0;position: absolute;width: 1px;}#sk-container-id-1 div.sk-estimator {font-family: monospace;background-color: #f0f8ff;border: 1px dotted black;border-radius: 0.25em;box-sizing: border-box;margin-bottom: 0.5em;}#sk-container-id-1 div.sk-estimator:hover {background-color: #d4ebff;}#sk-container-id-1 div.sk-parallel-item::after {content: \"\";width: 100%;border-bottom: 1px solid gray;flex-grow: 1;}#sk-container-id-1 div.sk-label:hover label.sk-toggleable__label {background-color: #d4ebff;}#sk-container-id-1 div.sk-serial::before {content: \"\";position: absolute;border-left: 1px solid gray;box-sizing: border-box;top: 0;bottom: 0;left: 50%;z-index: 0;}#sk-container-id-1 div.sk-serial {display: flex;flex-direction: column;align-items: center;background-color: white;padding-right: 0.2em;padding-left: 0.2em;position: relative;}#sk-container-id-1 div.sk-item {position: relative;z-index: 1;}#sk-container-id-1 div.sk-parallel {display: flex;align-items: stretch;justify-content: center;background-color: white;position: relative;}#sk-container-id-1 div.sk-item::before, #sk-container-id-1 div.sk-parallel-item::before {content: \"\";position: absolute;border-left: 1px solid gray;box-sizing: border-box;top: 0;bottom: 0;left: 50%;z-index: -1;}#sk-container-id-1 div.sk-parallel-item {display: flex;flex-direction: column;z-index: 1;position: relative;background-color: white;}#sk-container-id-1 div.sk-parallel-item:first-child::after {align-self: flex-end;width: 50%;}#sk-container-id-1 div.sk-parallel-item:last-child::after {align-self: flex-start;width: 50%;}#sk-container-id-1 div.sk-parallel-item:only-child::after {width: 0;}#sk-container-id-1 div.sk-dashed-wrapped {border: 1px dashed gray;margin: 0 0.4em 0.5em 0.4em;box-sizing: border-box;padding-bottom: 0.4em;background-color: white;}#sk-container-id-1 div.sk-label label {font-family: monospace;font-weight: bold;display: inline-block;line-height: 1.2em;}#sk-container-id-1 div.sk-label-container {text-align: center;}#sk-container-id-1 div.sk-container {/* jupyter's `normalize.less` sets `[hidden] { display: none; }` but bootstrap.min.css set `[hidden] { display: none !important; }` so we also need the `!important` here to be able to override the default hidden behavior on the sphinx rendered scikit-learn.org. See: https://github.com/scikit-learn/scikit-learn/issues/21755 */display: inline-block !important;position: relative;}#sk-container-id-1 div.sk-text-repr-fallback {display: none;}</style><div id=\"sk-container-id-1\" class=\"sk-top-container\"><div class=\"sk-text-repr-fallback\"><pre>GaussianMixture(n_components=2, random_state=0)</pre><b>In a Jupyter environment, please rerun this cell to show the HTML representation or trust the notebook. <br />On GitHub, the HTML representation is unable to render, please try loading this page with nbviewer.org.</b></div><div class=\"sk-container\" hidden><div class=\"sk-item\"><div class=\"sk-estimator sk-toggleable\"><input class=\"sk-toggleable__control sk-hidden--visually\" id=\"sk-estimator-id-1\" type=\"checkbox\" checked><label for=\"sk-estimator-id-1\" class=\"sk-toggleable__label sk-toggleable__label-arrow\">GaussianMixture</label><div class=\"sk-toggleable__content\"><pre>GaussianMixture(n_components=2, random_state=0)</pre></div></div></div></div></div>"
      ],
      "text/plain": [
       "GaussianMixture(n_components=2, random_state=0)"
      ]
     },
     "execution_count": 5,
     "metadata": {},
     "output_type": "execute_result"
    }
   ],
   "source": [
    "gmm = GaussianMixture(n_components=2, random_state=0)\n",
    "gmm.fit(normalizedTrainFeatures)"
   ]
  },
  {
   "cell_type": "code",
   "execution_count": 6,
   "id": "e528d24b-c25d-4235-8a54-6ae8be74459e",
   "metadata": {},
   "outputs": [],
   "source": [
    "train_cluster_labels = gmm.predict(normalizedTrainFeatures)\n",
    "test_cluster_labels = gmm.predict(normalizedTestFeatures)"
   ]
  },
  {
   "cell_type": "code",
   "execution_count": 7,
   "id": "849a0115-19a1-4cbb-989a-6756dae425ea",
   "metadata": {},
   "outputs": [
    {
     "name": "stdout",
     "output_type": "stream",
     "text": [
      "BIC: 249636.98998647946\n",
      "AIC: 247695.42556652534\n"
     ]
    }
   ],
   "source": [
    "print(\"BIC:\", gmm.bic(normalizedTrainFeatures))\n",
    "print(\"AIC:\", gmm.aic(normalizedTrainFeatures))"
   ]
  },
  {
   "cell_type": "code",
   "execution_count": 17,
   "metadata": {},
   "outputs": [
    {
     "name": "stdout",
     "output_type": "stream",
     "text": [
      "Homogeneity score: 0.0004322300292383558\n",
      "Completeness score: 0.001030298906757269\n",
      "V-Measure score: 0.0006089809447616599\n"
     ]
    }
   ],
   "source": [
    "predictions = test_cluster_labels\n",
    "homogeneity = m.homogeneity_score(test_labels,predictions)\n",
    "completeness = m.completeness_score(test_labels,predictions)\n",
    "v_measure = m.v_measure_score(test_labels,predictions)\n",
    "print(\"Homogeneity score: \" + str(homogeneity))\n",
    "print(\"Completeness score: \" + str(completeness))\n",
    "print(\"V-Measure score: \" + str(v_measure))"
   ]
  },
  {
   "cell_type": "code",
   "execution_count": 18,
   "metadata": {},
   "outputs": [
    {
     "name": "stdout",
     "output_type": "stream",
     "text": [
      "Accuracy score: 0.5904704764761762\n",
      "Precision score: 0.43953345610804173\n",
      "Recall score: 0.08956717538153615\n",
      "F1 score:  0.14881014236724513\n",
      "AUC-ROC:  0.5\n"
     ]
    }
   ],
   "source": [
    "acc = m.accuracy_score(test_labels, predictions)\n",
    "prec = m.precision_score(test_labels, predictions)\n",
    "recall = m.recall_score(test_labels, predictions)\n",
    "f1 = m.f1_score(test_labels,predictions)\n",
    "auc = m.roc_auc_score(test_labels,probs)\n",
    "print(\"Accuracy score: \" + str(acc))\n",
    "print(\"Precision score: \" + str(prec))\n",
    "print(\"Recall score: \" + str(recall))\n",
    "print(\"F1 score: \", f1)\n",
    "print(\"AUC-ROC: \", auc)"
   ]
  },
  {
   "cell_type": "code",
   "execution_count": 19,
   "id": "87063e87-cb39-411d-9fd0-1545e2ac23d6",
   "metadata": {},
   "outputs": [
    {
     "data": {
      "text/plain": [
       "<sklearn.metrics._plot.confusion_matrix.ConfusionMatrixDisplay at 0x148d78ce910>"
      ]
     },
     "execution_count": 19,
     "metadata": {},
     "output_type": "execute_result"
    },
    {
     "data": {
      "image/png": "[encoded data removed]",
      "text/plain": [
       "<Figure size 640x480 with 2 Axes>"
      ]
     },
     "metadata": {},
     "output_type": "display_data"
    }
   ],
   "source": [
    "m.ConfusionMatrixDisplay(m.confusion_matrix(test_labels, predictions)).plot()"
   ]
  },
  {
   "cell_type": "code",
   "execution_count": 20,
   "metadata": {},
   "outputs": [
    {
     "name": "stdout",
     "output_type": "stream",
     "text": [
      "Model dump complete!\n"
     ]
    }
   ],
   "source": [
    "import pickle\n",
    "with open('trained_models/gmm.pkl','wb') as f:\n",
    "    pickle.dump(gmm,f)\n",
    "print(\"Model dump complete!\")"
   ]
  }
 ],
 "metadata": {
  "kernelspec": {
   "display_name": "Python 3 (ipykernel)",
   "language": "python",
   "name": "python3"
  },
  "language_info": {
   "codemirror_mode": {
    "name": "ipython",
    "version": 3
   },
   "file_extension": ".py",
   "mimetype": "text/x-python",
   "name": "python",
   "nbconvert_exporter": "python",
   "pygments_lexer": "ipython3",
   "version": "3.11.7"
  }
 },
 "nbformat": 4,
 "nbformat_minor": 5
}
