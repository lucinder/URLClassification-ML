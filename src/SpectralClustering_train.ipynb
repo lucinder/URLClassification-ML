{
 "cells": [
  {
   "cell_type": "code",
   "execution_count": 1,
   "id": "e56d09bf-f616-4072-8112-a2f84902d20a",
   "metadata": {},
   "outputs": [],
   "source": [
    "import pandas as pd\n",
    "import numpy as np\n",
    "from sklearn.cluster import SpectralClustering\n",
    "from sklearn.metrics import confusion_matrix\n",
    "from sklearn.preprocessing import StandardScaler\n",
    "import matplotlib.pyplot as plt\n",
    "import seaborn as sns"
   ]
  },
  {
   "cell_type": "code",
   "execution_count": 2,
   "id": "a184d9a4-32fa-4314-82eb-839cc3f9f436",
   "metadata": {},
   "outputs": [],
   "source": [
    "input_path = \"../data/features_encoded.csv\"\n",
    "raw_data = pd.read_csv(input_path, header=0, skiprows=None, index_col=None, delimiter=\",\")"
   ]
  },
  {
   "cell_type": "code",
   "execution_count": 3,
   "id": "b1d1d8ed-abc7-49f9-96c9-da0960ba27d7",
   "metadata": {},
   "outputs": [],
   "source": [
    "labels = raw_data['malicious'].apply(lambda x: 1 if x else 0)\n",
    "features = raw_data.drop('malicious', axis=1)"
   ]
  },
  {
   "cell_type": "code",
   "execution_count": 4,
   "id": "c962e03f-5734-4f45-b7af-7a948eddfd7e",
   "metadata": {},
   "outputs": [],
   "source": [
    "train_features = features.iloc[:80000, :]\n",
    "test_features = features.iloc[80000:, :]\n",
    "train_labels = labels[:80000]\n",
    "test_labels = labels[80000:]"
   ]
  },
  {
   "cell_type": "code",
   "execution_count": 5,
   "id": "eb7dd00b-99e2-4060-8523-62f4428e2bde",
   "metadata": {
    "collapsed": true,
    "jupyter": {
     "outputs_hidden": true
    },
    "scrolled": true
   },
   "outputs": [
    {
     "name": "stderr",
     "output_type": "stream",
     "text": [
      "C:\\Python311\\Lib\\site-packages\\sklearn\\utils\\validation.py:757: FutureWarning: is_sparse is deprecated and will be removed in a future version. Check `isinstance(dtype, pd.SparseDtype)` instead.\n",
      "  if not hasattr(array, \"sparse\") and array.dtypes.apply(is_sparse).any():\n",
      "C:\\Python311\\Lib\\site-packages\\sklearn\\utils\\validation.py:595: FutureWarning: is_sparse is deprecated and will be removed in a future version. Check `isinstance(dtype, pd.SparseDtype)` instead.\n",
      "  if is_sparse(pd_dtype):\n",
      "C:\\Python311\\Lib\\site-packages\\sklearn\\utils\\validation.py:604: FutureWarning: is_sparse is deprecated and will be removed in a future version. Check `isinstance(dtype, pd.SparseDtype)` instead.\n",
      "  if is_sparse(pd_dtype) or not is_extension_array_dtype(pd_dtype):\n",
      "C:\\Python311\\Lib\\site-packages\\sklearn\\utils\\validation.py:757: FutureWarning: is_sparse is deprecated and will be removed in a future version. Check `isinstance(dtype, pd.SparseDtype)` instead.\n",
      "  if not hasattr(array, \"sparse\") and array.dtypes.apply(is_sparse).any():\n",
      "C:\\Python311\\Lib\\site-packages\\sklearn\\utils\\validation.py:595: FutureWarning: is_sparse is deprecated and will be removed in a future version. Check `isinstance(dtype, pd.SparseDtype)` instead.\n",
      "  if is_sparse(pd_dtype):\n",
      "C:\\Python311\\Lib\\site-packages\\sklearn\\utils\\validation.py:604: FutureWarning: is_sparse is deprecated and will be removed in a future version. Check `isinstance(dtype, pd.SparseDtype)` instead.\n",
      "  if is_sparse(pd_dtype) or not is_extension_array_dtype(pd_dtype):\n",
      "C:\\Python311\\Lib\\site-packages\\sklearn\\utils\\validation.py:757: FutureWarning: is_sparse is deprecated and will be removed in a future version. Check `isinstance(dtype, pd.SparseDtype)` instead.\n",
      "  if not hasattr(array, \"sparse\") and array.dtypes.apply(is_sparse).any():\n",
      "C:\\Python311\\Lib\\site-packages\\sklearn\\utils\\validation.py:595: FutureWarning: is_sparse is deprecated and will be removed in a future version. Check `isinstance(dtype, pd.SparseDtype)` instead.\n",
      "  if is_sparse(pd_dtype):\n",
      "C:\\Python311\\Lib\\site-packages\\sklearn\\utils\\validation.py:604: FutureWarning: is_sparse is deprecated and will be removed in a future version. Check `isinstance(dtype, pd.SparseDtype)` instead.\n",
      "  if is_sparse(pd_dtype) or not is_extension_array_dtype(pd_dtype):\n"
     ]
    }
   ],
   "source": [
    "scaler = StandardScaler()\n",
    "normalizedTrainFeatures = scaler.fit_transform(train_features)\n",
    "normalizedTestFeatures = scaler.transform(test_features)"
   ]
  },
  {
   "cell_type": "code",
   "execution_count": 6,
   "id": "43ae9b20-047e-4087-a7bb-53f2bd8edca0",
   "metadata": {
    "collapsed": true,
    "jupyter": {
     "outputs_hidden": true
    }
   },
   "outputs": [
    {
     "name": "stderr",
     "output_type": "stream",
     "text": [
      "C:\\Python311\\Lib\\site-packages\\sklearn\\manifold\\_spectral_embedding.py:259: UserWarning: Graph is not fully connected, spectral embedding may not work as expected.\n",
      "  warnings.warn(\n",
      "C:\\Python311\\Lib\\site-packages\\sklearn\\manifold\\_spectral_embedding.py:259: UserWarning: Graph is not fully connected, spectral embedding may not work as expected.\n",
      "  warnings.warn(\n"
     ]
    }
   ],
   "source": [
    "spectral = SpectralClustering(n_clusters=2, affinity='nearest_neighbors', random_state=0)\n",
    "train_cluster_labels = spectral.fit_predict(normalizedTrainFeatures)\n",
    "test_cluster_labels = spectral.fit_predict(normalizedTestFeatures)"
   ]
  },
  {
   "cell_type": "code",
   "execution_count": 7,
   "id": "3d4de85c-5039-46ff-a254-fab7a216553b",
   "metadata": {},
   "outputs": [],
   "source": [
    "if normalizedTrainFeatures.shape[1] in [2, 3]:\n",
    "    plt.scatter(normalizedTrainFeatures[:, 0], normalizedTrainFeatures[:, 1], c=train_cluster_labels, cmap='viridis')\n",
    "    plt.title(\"Spectral Clustering Visualization\")\n",
    "    plt.show()"
   ]
  },
  {
   "cell_type": "code",
   "execution_count": 8,
   "id": "74e0f22d-1668-4c64-b2e8-f0e2cf1929e0",
   "metadata": {},
   "outputs": [
    {
     "data": {
      "image/png": "[encoded data removed]",
      "text/plain": [
       "<Figure size 640x480 with 2 Axes>"
      ]
     },
     "metadata": {},
     "output_type": "display_data"
    }
   ],
   "source": [
    "cm = confusion_matrix(test_labels, test_cluster_labels)\n",
    "sns.heatmap(cm, annot=True, fmt='d', cmap='Blues')\n",
    "plt.xlabel('Predicted')\n",
    "plt.ylabel('True')\n",
    "plt.title('Spectral Clustering Confusion Matrix')\n",
    "plt.show()"
   ]
  },
  {
   "cell_type": "code",
   "execution_count": null,
   "id": "ce2f81cb-8e22-4e4d-979b-f2e108806709",
   "metadata": {},
   "outputs": [],
   "source": []
  }
 ],
 "metadata": {
  "kernelspec": {
   "display_name": "Python 3 (ipykernel)",
   "language": "python",
   "name": "python3"
  },
  "language_info": {
   "codemirror_mode": {
    "name": "ipython",
    "version": 3
   },
   "file_extension": ".py",
   "mimetype": "text/x-python",
   "name": "python",
   "nbconvert_exporter": "python",
   "pygments_lexer": "ipython3",
   "version": "3.11.5"
  }
 },
 "nbformat": 4,
 "nbformat_minor": 5
}
