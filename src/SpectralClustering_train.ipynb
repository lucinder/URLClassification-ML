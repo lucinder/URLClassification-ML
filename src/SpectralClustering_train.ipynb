{
 "cells": [
  {
   "cell_type": "code",
   "execution_count": 15,
   "id": "e56d09bf-f616-4072-8112-a2f84902d20a",
   "metadata": {},
   "outputs": [],
   "source": [
    "import pandas as pd\n",
    "import numpy as np\n",
    "from sklearn.cluster import SpectralClustering\n",
    "# from sklearn.metrics import confusion_matrix\n",
    "# from sklearn.preprocessing import StandardScaler\n",
    "import matplotlib.pyplot as plt\n",
    "# import seaborn as sns\n",
    "import sklearn.metrics as m\n",
    "import warnings\n",
    "warnings.filterwarnings(\"ignore\")"
   ]
  },
  {
   "cell_type": "code",
   "execution_count": 16,
   "id": "a184d9a4-32fa-4314-82eb-839cc3f9f436",
   "metadata": {},
   "outputs": [],
   "source": [
    "input_path = \"../data/features_encoded.csv\"\n",
    "raw_data = pd.read_csv(input_path, header=0, skiprows=None, index_col=None, delimiter=\",\")\n",
    "\n",
    "labels = raw_data['malicious'].apply(lambda x: 1 if x else 0)\n",
    "features = raw_data.drop('malicious', axis=1)\n",
    "\n",
    "train_features = features.iloc[:80000, :]\n",
    "test_features = features.iloc[80000:, :]\n",
    "train_labels = labels[:80000]\n",
    "test_labels = labels[80000:]"
   ]
  },
  {
   "cell_type": "code",
   "execution_count": 17,
   "id": "b1d1d8ed-abc7-49f9-96c9-da0960ba27d7",
   "metadata": {},
   "outputs": [],
   "source": [
    "def calculateNormalizationParams(data):\n",
    "    means = data.mean()\n",
    "    stdevs = data.std()\n",
    "    stdevs[stdevs == 0] = 1  # Replace 0 std to avoid division by zero\n",
    "    return means, stdevs\n",
    "\n",
    "def applyNormalization(data, means, stdevs):\n",
    "    return (data - means) / stdevs"
   ]
  },
  {
   "cell_type": "code",
   "execution_count": 18,
   "id": "c962e03f-5734-4f45-b7af-7a948eddfd7e",
   "metadata": {},
   "outputs": [],
   "source": [
    "means, stdevs = calculateNormalizationParams(train_features)\n",
    "normalizedTrainFeatures = applyNormalization(train_features, means, stdevs)\n",
    "normalizedTestFeatures = applyNormalization(test_features, means, stdevs)"
   ]
  },
  {
   "cell_type": "code",
   "execution_count": 19,
   "metadata": {},
   "outputs": [],
   "source": [
    "best_k = 2\n",
    "best_classifier = spectral = SpectralClustering(n_clusters=best_k,affinity='nearest_neighbors',random_state=0).fit(normalizedTrainFeatures)\n",
    "# prev_error = best_classifier.inertia_"
   ]
  },
  {
   "cell_type": "code",
   "execution_count": 29,
   "metadata": {},
   "outputs": [],
   "source": [
    "spectral = best_classifier\n",
    "predictions = spectral.fit_predict(normalizedTestFeatures)"
   ]
  },
  {
   "cell_type": "code",
   "execution_count": 30,
   "id": "3d4de85c-5039-46ff-a254-fab7a216553b",
   "metadata": {},
   "outputs": [],
   "source": [
    "if normalizedTrainFeatures.shape[1] in [2, 3]:\n",
    "    plt.scatter(normalizedTrainFeatures[:, 0], normalizedTrainFeatures[:, 1], c=train_cluster_labels, cmap='viridis')\n",
    "    plt.title(\"Spectral Clustering Visualization\")\n",
    "    plt.show()"
   ]
  },
  {
   "cell_type": "code",
   "execution_count": 31,
   "metadata": {},
   "outputs": [
    {
     "name": "stdout",
     "output_type": "stream",
     "text": [
      "Homogeneity score: 0.0002814671435983904\n",
      "Completeness score: 0.014040674596164893\n",
      "V-Measure score: 0.0005518711718659941\n"
     ]
    }
   ],
   "source": [
    "homogeneity = m.homogeneity_score(test_labels,predictions)\n",
    "completeness = m.completeness_score(test_labels,predictions)\n",
    "v_measure = m.v_measure_score(test_labels,predictions)\n",
    "print(\"Homogeneity score: \" + str(homogeneity))\n",
    "print(\"Completeness score: \" + str(completeness))\n",
    "print(\"V-Measure score: \" + str(v_measure))"
   ]
  },
  {
   "cell_type": "code",
   "execution_count": 32,
   "metadata": {},
   "outputs": [],
   "source": [
    "pred2label = {}\n",
    "for i in range(0,len(predictions)):\n",
    "    if not str(predictions[i]) in pred2label:\n",
    "        pred2label.update({str(predictions[i]):{str(test_labels.iloc[i]):1}})\n",
    "    elif not str(test_labels.iloc[i]) in pred2label[str(predictions[i])]:\n",
    "        pred2label[str(predictions[i])].update({str(test_labels.iloc[i]):1})\n",
    "    else:\n",
    "        cur = int(pred2label[str(predictions[i])][str(test_labels.iloc[i])])\n",
    "        pred2label[str(predictions[i])][str(test_labels.iloc[i])] = str(cur + 1)\n",
    "for cluster in pred2label:\n",
    "    bcount = int(pred2label[cluster][\"0\"]) if \"0\" in pred2label[cluster] else 0\n",
    "    mcount = int(pred2label[cluster][\"1\"]) if \"1\" in pred2label[cluster] else 0\n",
    "    if bcount > mcount:\n",
    "        # pred2label[cluster][\"label\"] = 0\n",
    "        pred2label[cluster][\"probability\"] = float(bcount)/float(bcount+mcount)\n",
    "    else:\n",
    "        # pred2label[cluster][\"label\"] = 1\n",
    "        pred2label[cluster][\"probability\"] = float(mcount)/float(bcount+mcount)"
   ]
  },
  {
   "cell_type": "code",
   "execution_count": 33,
   "metadata": {},
   "outputs": [],
   "source": [
    "def getProb(x):\n",
    "    return pred2label[str(x)][\"probability\"]\n",
    "probs = [getProb(x) for x in predictions]"
   ]
  },
  {
   "cell_type": "code",
   "execution_count": 34,
   "metadata": {},
   "outputs": [
    {
     "name": "stdout",
     "output_type": "stream",
     "text": [
      "Accuracy score: 0.5991700414979251\n",
      "Precision score: 0.1891891891891892\n",
      "Recall score: 0.0008756567425569177\n",
      "F1 score:  0.0017432449259120908\n",
      "AUC-ROC:  0.4991885571128459\n"
     ]
    }
   ],
   "source": [
    "acc = m.accuracy_score(test_labels, predictions)\n",
    "prec = m.precision_score(test_labels, predictions)\n",
    "recall = m.recall_score(test_labels, predictions)\n",
    "f1 = m.f1_score(test_labels,predictions)\n",
    "auc = m.roc_auc_score(test_labels,probs)\n",
    "print(\"Accuracy score: \" + str(acc))\n",
    "print(\"Precision score: \" + str(prec))\n",
    "print(\"Recall score: \" + str(recall))\n",
    "print(\"F1 score: \", f1)\n",
    "print(\"AUC-ROC: \", auc)"
   ]
  },
  {
   "cell_type": "code",
   "execution_count": 35,
   "id": "74e0f22d-1668-4c64-b2e8-f0e2cf1929e0",
   "metadata": {},
   "outputs": [
    {
     "data": {
      "text/plain": [
       "<sklearn.metrics._plot.confusion_matrix.ConfusionMatrixDisplay at 0x19723b2c3d0>"
      ]
     },
     "execution_count": 35,
     "metadata": {},
     "output_type": "execute_result"
    },
    {
     "data": {
      "image/png": "[encoded data removed]",
      "text/plain": [
       "<Figure size 640x480 with 2 Axes>"
      ]
     },
     "metadata": {},
     "output_type": "display_data"
    }
   ],
   "source": [
    "m.ConfusionMatrixDisplay(m.confusion_matrix(test_labels, predictions)).plot()"
   ]
  },
  {
   "cell_type": "code",
   "execution_count": 36,
   "id": "ce2f81cb-8e22-4e4d-979b-f2e108806709",
   "metadata": {},
   "outputs": [
    {
     "name": "stdout",
     "output_type": "stream",
     "text": [
      "Model dump complete!\n"
     ]
    }
   ],
   "source": [
    "import pickle\n",
    "with open('trained_models/spectral.pkl','wb') as f:\n",
    "    pickle.dump(spectral,f)\n",
    "print(\"Model dump complete!\")"
   ]
  }
 ],
 "metadata": {
  "kernelspec": {
   "display_name": "Python 3 (ipykernel)",
   "language": "python",
   "name": "python3"
  },
  "language_info": {
   "codemirror_mode": {
    "name": "ipython",
    "version": 3
   },
   "file_extension": ".py",
   "mimetype": "text/x-python",
   "name": "python",
   "nbconvert_exporter": "python",
   "pygments_lexer": "ipython3",
   "version": "3.11.7"
  }
 },
 "nbformat": 4,
 "nbformat_minor": 5
}
