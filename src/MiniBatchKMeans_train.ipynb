{
 "cells": [
  {
   "cell_type": "code",
   "execution_count": 1,
   "id": "3a29b54e-dc6f-4984-afcc-a1cc553aef0f",
   "metadata": {},
   "outputs": [],
   "source": [
    "import pandas as pd\n",
    "import numpy as np\n",
    "from sklearn.cluster import MiniBatchKMeans\n",
    "import sklearn.metrics as m\n",
    "# from sklearn.metrics import confusion_matrix\n",
    "# from sklearn.preprocessing import StandardScaler\n",
    "import matplotlib.pyplot as plt\n",
    "# import seaborn as sns\n",
    "import warnings\n",
    "warnings.filterwarnings(\"ignore\")"
   ]
  },
  {
   "cell_type": "code",
   "execution_count": 2,
   "id": "539a7551-62b2-432e-b0e1-3d3a0e96c213",
   "metadata": {},
   "outputs": [],
   "source": [
    "input_path = \"../data/features_encoded.csv\"\n",
    "raw_data = pd.read_csv(input_path, header=0, skiprows=None, index_col=None, delimiter=\",\")\n",
    "\n",
    "labels = raw_data['malicious'].apply(lambda x: 1 if x else 0)\n",
    "features = raw_data.drop('malicious', axis=1)\n",
    "\n",
    "train_features = features.iloc[:80000, :]\n",
    "test_features = features.iloc[80000:, :]\n",
    "train_labels = labels[:80000]\n",
    "test_labels = labels[80000:]"
   ]
  },
  {
   "cell_type": "code",
   "execution_count": 3,
   "id": "17d9479b-f1e1-42b0-ad8c-7c85185a36d5",
   "metadata": {},
   "outputs": [],
   "source": [
    "def calculateNormalizationParams(data):\n",
    "    means = data.mean()\n",
    "    stdevs = data.std()\n",
    "    stdevs[stdevs == 0] = 1  # Replace 0 std to avoid division by zero\n",
    "    return means, stdevs\n",
    "\n",
    "def applyNormalization(data, means, stdevs):\n",
    "    return (data - means) / stdevs"
   ]
  },
  {
   "cell_type": "code",
   "execution_count": 4,
   "id": "a22379dd-39fa-4acf-9dc7-8ae4845a88cf",
   "metadata": {},
   "outputs": [],
   "source": [
    "means, stdevs = calculateNormalizationParams(train_features)\n",
    "normalizedTrainFeatures = applyNormalization(train_features, means, stdevs)\n",
    "normalizedTestFeatures = applyNormalization(test_features, means, stdevs)"
   ]
  },
  {
   "cell_type": "code",
   "execution_count": 6,
   "metadata": {},
   "outputs": [],
   "source": [
    "best_k = 2\n",
    "best_classifier = minibatch_kmeans = MiniBatchKMeans(n_clusters=best_k,max_iter=10,init=\"random\").fit(normalizedTrainFeatures)\n",
    "prev_error = best_classifier.inertia_"
   ]
  },
  {
   "cell_type": "code",
   "execution_count": 8,
   "metadata": {},
   "outputs": [],
   "source": [
    "def clusteringScore(data, k):\n",
    "    global best_k,best_classifier,prev_error\n",
    "    minbatch_kmeans = MiniBatchKMeans(n_clusters=k, max_iter=10, init=\"random\").fit(data)\n",
    "    error = minibatch_kmeans.inertia_\n",
    "    if(error < prev_error):\n",
    "        prev_error = error\n",
    "        best_classifier = minibatch_kmeans\n",
    "        best_k = k\n",
    "    return (k,minibatch_kmeans.inertia_)"
   ]
  },
  {
   "cell_type": "code",
   "execution_count": 9,
   "metadata": {},
   "outputs": [
    {
     "name": "stdout",
     "output_type": "stream",
     "text": [
      "k =   2, WSSSE = 885078\n",
      "k =   5, WSSSE = 885078\n",
      "k =  10, WSSSE = 885078\n",
      "k =  20, WSSSE = 885078\n",
      "k =  30, WSSSE = 885078\n",
      "k =  40, WSSSE = 885078\n",
      "k =  50, WSSSE = 885078\n",
      "k =  60, WSSSE = 885078\n",
      "k =  70, WSSSE = 885078\n",
      "k =  80, WSSSE = 885078\n",
      "k =  90, WSSSE = 885078\n",
      "k = 100, WSSSE = 885078\n"
     ]
    }
   ],
   "source": [
    "k_vector = [2, 5, 10, 20,30,40,50,60,70,80,90,100]\n",
    "scores = [clusteringScore(normalizedTrainFeatures, k) for k in k_vector]\n",
    "for i, score in enumerate(scores):\n",
    "    print(\"k = %3d, WSSSE = %d\" %(score[0], score[1]))"
   ]
  },
  {
   "cell_type": "code",
   "execution_count": 10,
   "id": "fdc06b11-5f0d-4209-bcef-553a56bef22d",
   "metadata": {},
   "outputs": [],
   "source": [
    "minibatch_kmeans = best_classifier"
   ]
  },
  {
   "cell_type": "code",
   "execution_count": 29,
   "id": "4af61050-faa9-4588-a0df-4fc43f336a78",
   "metadata": {},
   "outputs": [],
   "source": [
    "predictions = minibatch_kmeans.predict(normalizedTestFeatures)"
   ]
  },
  {
   "cell_type": "code",
   "execution_count": 30,
   "id": "86c2e7d0-4f9d-4a30-bf44-f47e42240d1c",
   "metadata": {},
   "outputs": [
    {
     "name": "stdout",
     "output_type": "stream",
     "text": [
      "Inertia: 885078.5407959688\n"
     ]
    }
   ],
   "source": [
    "print(\"Inertia:\", minibatch_kmeans.inertia_)"
   ]
  },
  {
   "cell_type": "code",
   "execution_count": 31,
   "metadata": {},
   "outputs": [],
   "source": [
    "pred2label = {}\n",
    "for i in range(0,len(predictions)):\n",
    "    if not str(predictions[i]) in pred2label:\n",
    "        pred2label.update({str(predictions[i]):{str(test_labels.iloc[i]):1}})\n",
    "    elif not str(test_labels.iloc[i]) in pred2label[str(predictions[i])]:\n",
    "        pred2label[str(predictions[i])].update({str(test_labels.iloc[i]):1})\n",
    "    else:\n",
    "        cur = int(pred2label[str(predictions[i])][str(test_labels.iloc[i])])\n",
    "        pred2label[str(predictions[i])][str(test_labels.iloc[i])] = str(cur + 1)\n",
    "for cluster in pred2label:\n",
    "    bcount = int(pred2label[cluster][\"0\"]) if \"0\" in pred2label[cluster] else 0\n",
    "    mcount = int(pred2label[cluster][\"1\"]) if \"1\" in pred2label[cluster] else 0\n",
    "    if bcount > mcount:\n",
    "        pred2label[cluster][\"probability\"] = float(bcount)/float(bcount+mcount)\n",
    "    else:\n",
    "        pred2label[cluster][\"probability\"] = float(mcount)/float(bcount+mcount)"
   ]
  },
  {
   "cell_type": "code",
   "execution_count": 32,
   "metadata": {},
   "outputs": [],
   "source": [
    "def getProb(x):\n",
    "    return pred2label[str(x)][\"probability\"]\n",
    "probs = [getProb(x) for x in predictions]"
   ]
  },
  {
   "cell_type": "code",
   "execution_count": 33,
   "id": "2bd01f43-0ad9-4c29-8bcc-57abf83c81f3",
   "metadata": {},
   "outputs": [],
   "source": [
    "if normalizedTrainFeatures.shape[1] in [2, 3]:\n",
    "    plt.scatter(normalizedTrainFeatures[:, 0], normalizedTrainFeatures[:, 1], c=train_cluster_labels, cmap='viridis')\n",
    "    centers = minibatch_kmeans.cluster_centers_\n",
    "    plt.scatter(centers[:, 0], centers[:, 1], c='black', s=200, alpha=0.5)\n",
    "    plt.title(\"MiniBatch KMeans Clustering Visualization\")\n",
    "    plt.show()"
   ]
  },
  {
   "cell_type": "code",
   "execution_count": 25,
   "metadata": {},
   "outputs": [
    {
     "name": "stdout",
     "output_type": "stream",
     "text": [
      "Homogeneity score: 1.4844799238725588e-05\n",
      "Completeness score: 1.6266311760653493e-05\n",
      "V-Measure score: 1.552307999841223e-05\n"
     ]
    }
   ],
   "source": [
    "homogeneity = m.homogeneity_score(test_labels,predictions)\n",
    "completeness = m.completeness_score(test_labels,predictions)\n",
    "v_measure = m.v_measure_score(test_labels,predictions)\n",
    "print(\"Homogeneity score: \" + str(homogeneity))\n",
    "print(\"Completeness score: \" + str(completeness))\n",
    "print(\"V-Measure score: \" + str(v_measure))"
   ]
  },
  {
   "cell_type": "code",
   "execution_count": 34,
   "metadata": {},
   "outputs": [
    {
     "name": "stdout",
     "output_type": "stream",
     "text": [
      "Accuracy score: 0.5413729313534323\n",
      "Precision score: 0.4029948987987494\n",
      "Recall score: 0.3063547660745559\n",
      "F1 score:  0.34809182005543315\n",
      "AUC-ROC:  0.49790115448250216\n"
     ]
    }
   ],
   "source": [
    "acc = m.accuracy_score(test_labels, predictions)\n",
    "prec = m.precision_score(test_labels, predictions)\n",
    "recall = m.recall_score(test_labels, predictions)\n",
    "f1 = m.f1_score(test_labels,predictions)\n",
    "auc = m.roc_auc_score(test_labels,probs)\n",
    "print(\"Accuracy score: \" + str(acc))\n",
    "print(\"Precision score: \" + str(prec))\n",
    "print(\"Recall score: \" + str(recall))\n",
    "print(\"F1 score: \", f1)\n",
    "print(\"AUC-ROC: \", auc)"
   ]
  },
  {
   "cell_type": "code",
   "execution_count": 35,
   "id": "cb031be4-f3f8-4421-beca-0377736a500c",
   "metadata": {},
   "outputs": [
    {
     "data": {
      "text/plain": [
       "<sklearn.metrics._plot.confusion_matrix.ConfusionMatrixDisplay at 0x266fbdb1310>"
      ]
     },
     "execution_count": 35,
     "metadata": {},
     "output_type": "execute_result"
    },
    {
     "data": {
      "image/png": "[encoded data removed]",
      "text/plain": [
       "<Figure size 640x480 with 2 Axes>"
      ]
     },
     "metadata": {},
     "output_type": "display_data"
    }
   ],
   "source": [
    "m.ConfusionMatrixDisplay(m.confusion_matrix(test_labels, predictions)).plot()"
   ]
  },
  {
   "cell_type": "code",
   "execution_count": 28,
   "metadata": {},
   "outputs": [
    {
     "name": "stdout",
     "output_type": "stream",
     "text": [
      "Model dump complete!\n"
     ]
    }
   ],
   "source": [
    "import pickle\n",
    "with open('trained_models/minibatch_kmeans.pkl','wb') as f:\n",
    "    pickle.dump(minibatch_kmeans,f)\n",
    "print(\"Model dump complete!\")"
   ]
  }
 ],
 "metadata": {
  "kernelspec": {
   "display_name": "Python 3 (ipykernel)",
   "language": "python",
   "name": "python3"
  },
  "language_info": {
   "codemirror_mode": {
    "name": "ipython",
    "version": 3
   },
   "file_extension": ".py",
   "mimetype": "text/x-python",
   "name": "python",
   "nbconvert_exporter": "python",
   "pygments_lexer": "ipython3",
   "version": "3.11.7"
  }
 },
 "nbformat": 4,
 "nbformat_minor": 5
}
